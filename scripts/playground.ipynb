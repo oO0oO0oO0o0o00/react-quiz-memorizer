{
 "cells": [
  {
   "cell_type": "code",
   "execution_count": 17,
   "metadata": {},
   "outputs": [],
   "source": [
    "%reload_ext autoreload\n",
    "%autoreload 1\n",
    "%aimport commons\n",
    "%aimport src_parser\n",
    "import commons\n",
    "import articles_parser"
   ]
  },
  {
   "cell_type": "code",
   "execution_count": 15,
   "metadata": {},
   "outputs": [
    {
     "name": "stdout",
     "output_type": "stream",
     "text": [
      "QuizItem(segments=[QuizItemSegment(text='食肉目', separator_level=0), QuizItemSegment(text='猫科', separator_level=0), QuizItemSegment(text='猫属', separator_level=0)], exclusive_id='00', link_id=None, only_kinds=[], text_start=32, text_end=39)\n",
      "QuizItem(segments=[QuizItemSegment(text='猫科', separator_level=0), QuizItemSegment(text='猫属', separator_level=0)], exclusive_id='00', link_id=None, only_kinds=[], text_start=35, text_end=39)\n",
      "QuizItem(segments=[QuizItemSegment(text='脊索', separator_level=0), QuizItemSegment(text='动物', separator_level=1)], exclusive_id=None, link_id=None, only_kinds=[], text_start=40, text_end=44)\n",
      "QuizItem(segments=[QuizItemSegment(text='蓝灰', separator_level=0), QuizItemSegment(text='色', separator_level=1)], exclusive_id='2952362456032', link_id=None, only_kinds=[], text_start=53, text_end=56)\n",
      "QuizItem(segments=[QuizItemSegment(text='蓝灰', separator_level=0)], exclusive_id='2952362456032', link_id=None, only_kinds=[<QuizKind.selection: 's'>], text_start=53, text_end=55)\n",
      "猫（拉丁学名：Felis silvestris catus），是食肉目猫科猫属的脊索动物。猫体型小，体色由蓝灰色到棕黄色，体型瘦削，身长0.3-0.5米\n"
     ]
    }
   ],
   "source": [
    "c = articles_parser.parseLine(\n",
    "    \"猫（拉丁学名：Felis silvestris catus），是[==m00 食肉目[猫科/猫属]]的[脊索//动物]。猫体型小，体色由[[==ks 蓝灰]//色]到棕黄色，体型瘦削，身长0.3-0.5米\")\n",
    "for x in c.quizzes: print(x)\n",
    "print(c.text)"
   ]
  },
  {
   "cell_type": "code",
   "execution_count": 18,
   "metadata": {},
   "outputs": [],
   "source": [
    "c = articles_parser.parseArticles(open(r\"C:\\Users\\barco\\OneDrive\\docu\\sugarbear\\test-1.txt\").read())\n",
    "# print(c)"
   ]
  }
 ],
 "metadata": {
  "kernelspec": {
   "display_name": ".venv",
   "language": "python",
   "name": "python3"
  },
  "language_info": {
   "codemirror_mode": {
    "name": "ipython",
    "version": 3
   },
   "file_extension": ".py",
   "mimetype": "text/x-python",
   "name": "python",
   "nbconvert_exporter": "python",
   "pygments_lexer": "ipython3",
   "version": "3.12.6"
  }
 },
 "nbformat": 4,
 "nbformat_minor": 2
}
