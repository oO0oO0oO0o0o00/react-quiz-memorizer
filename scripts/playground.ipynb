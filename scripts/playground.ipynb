{
 "cells": [
  {
   "cell_type": "code",
   "execution_count": 12,
   "metadata": {},
   "outputs": [],
   "source": [
    "from antlr4 import CommonTokenStream, FileStream, InputStream\n",
    "from MarkupLexer import MarkupLexer\n",
    "from MarkupParser import MarkupParser\n",
    "\n",
    "def test(text):\n",
    "    input_stream = InputStream(text)\n",
    "    lexer = MarkupLexer(input_stream)\n",
    "    stream = CommonTokenStream(lexer)\n",
    "    parser = MarkupParser(stream)\n",
    "    tree = parser.lines()\n",
    "    print(tree.toStringTree(recog=parser))"
   ]
  },
  {
   "cell_type": "code",
   "execution_count": 14,
   "metadata": {},
   "outputs": [
    {
     "name": "stdout",
     "output_type": "stream",
     "text": [
      "(lines (line (template (text 1.\\t简介：魁北克宣言是 ) (placeholder [ (template (text 1984)) ]) (text  年在魁北克举办的) (placeholder [ (template (text 首届“) (sep /) (placeholder [ (template (text 生态博物馆) (sep /) (text 和) (sep /) (text 新博物馆学)) ]) (sep /) (text ” 国际研讨会)) ]) (text 上，国际上专家学者就) (placeholder [ (template (text 成立) (sep /) (text 新博物馆学) (sep /) (text 以促进) (sep /) (text 学科创新)) ]) (text 与) (placeholder [ (template (text 重新定义) (sep /) (text 博物馆学的) (sep /) (placeholder [ (template (text 宗旨) (sep /) (text 和) (sep /) (text 目标)) ])) ]) (text 而发布的宣言。)) <EOF>))\n"
     ]
    }
   ],
   "source": [
    "test(\"猫（拉丁学名：Felis silvestris catus），是[食肉目/[猫科/猫属]]的[脊索/动物]。猫体型小，体色由蓝灰色到棕黄色，体型瘦削，身长0.3-0.5米\")"
   ]
  }
 ],
 "metadata": {
  "kernelspec": {
   "display_name": ".venv",
   "language": "python",
   "name": "python3"
  },
  "language_info": {
   "codemirror_mode": {
    "name": "ipython",
    "version": 3
   },
   "file_extension": ".py",
   "mimetype": "text/x-python",
   "name": "python",
   "nbconvert_exporter": "python",
   "pygments_lexer": "ipython3",
   "version": "3.9.13"
  }
 },
 "nbformat": 4,
 "nbformat_minor": 2
}
