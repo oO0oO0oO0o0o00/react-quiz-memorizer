{
 "cells": [
  {
   "cell_type": "markdown",
   "metadata": {},
   "source": [
    "# HEAD"
   ]
  },
  {
   "cell_type": "code",
   "execution_count": 1,
   "metadata": {},
   "outputs": [],
   "source": [
    "%reload_ext autoreload\n",
    "%autoreload 1\n",
    "%aimport commons\n",
    "%aimport articles_parser\n",
    "%aimport generate_session\n",
    "import json\n",
    "from random import Random\n",
    "from pathlib import Path\n",
    "from supabase import create_client, Client\n",
    "from dotenv import dotenv_values\n",
    "import commons\n",
    "import articles_parser\n",
    "import generate_session\n",
    "\n",
    "class K:\n",
    "  root = Path(r\"C:\\Users\\barco\\OneDrive\\docu\\sugarbear\")"
   ]
  },
  {
   "cell_type": "markdown",
   "metadata": {},
   "source": [
    "# Generate Example"
   ]
  },
  {
   "cell_type": "code",
   "execution_count": 13,
   "metadata": {},
   "outputs": [],
   "source": [
    "articles = articles_parser.parseArticles(open(K.root / \"test-1.txt\").read())\n",
    "# print(articles)\n",
    "wordsBase = commons.WordsBase.from_articles(articles)\n",
    "def gen_options(index: int):\n",
    "  return generate_session.GenerateOptions(\n",
    "    preferred_density_per_chars=.01,\n",
    "    allow_weak_segmentation=True,\n",
    "    quiz_kind_weights={\n",
    "      commons.QuizKind.filling: .5,\n",
    "      commons.QuizKind.selection: .5,\n",
    "      commons.QuizKind.ordering: 1.,\n",
    "    }, random_seed = index)\n",
    "example = sum(([\n",
    "  generate_session.generateQuizArticle(\n",
    "    article, gen_options(i), wordsBase)\n",
    "  for article in articles\n",
    "] for i in [0, 2]), [])\n",
    "with open(K.root / \"test-1.json\", 'w') as fp:\n",
    "  json.dump(example, fp, indent=2, ensure_ascii=False)"
   ]
  },
  {
   "cell_type": "markdown",
   "metadata": {},
   "source": [
    "# Publish"
   ]
  },
  {
   "cell_type": "code",
   "execution_count": 14,
   "metadata": {},
   "outputs": [],
   "source": [
    "config = dotenv_values(\"../.env.local\")\n",
    "supabase: Client = create_client(\n",
    "  config[\"SUPABASE_URL\"],\n",
    "  config[\"SUPABASE_SERVICE_ROLE_KEY\"])"
   ]
  },
  {
   "cell_type": "code",
   "execution_count": 15,
   "metadata": {},
   "outputs": [
    {
     "name": "stdout",
     "output_type": "stream",
     "text": [
      "Session creation: [{'name': 'session', 'id': 228}]\n"
     ]
    }
   ],
   "source": [
    "supabase.from_(\"directories\") \\\n",
    "  .delete().is_(\"parent_id\", None).eq(\"name\", \"session\").execute()\n",
    "data = supabase.rpc(\"insert_folders_quick\", {\n",
    "  \"names\": [\"session\"],\n",
    "  \"parent_id\": None,\n",
    "}).execute().data\n",
    "print(f\"Session creation: {data}\")\n",
    "folder_id = data[0]['id']"
   ]
  },
  {
   "cell_type": "code",
   "execution_count": 16,
   "metadata": {},
   "outputs": [
    {
     "name": "stdout",
     "output_type": "stream",
     "text": [
      "[{'name': '0', 'id': 229}, {'name': '1', 'id': 230}, {'name': '2', 'id': 231}, {'name': '3', 'id': 232}, {'name': '4', 'id': 233}, {'name': '5', 'id': 234}, {'name': '6', 'id': 235}, {'name': '7', 'id': 236}, {'name': '8', 'id': 237}, {'name': '9', 'id': 238}, {'name': '10', 'id': 239}, {'name': '11', 'id': 240}, {'name': '12', 'id': 241}, {'name': '13', 'id': 242}, {'name': '14', 'id': 243}, {'name': '15', 'id': 244}, {'name': 'meta', 'id': 245}]\n"
     ]
    }
   ],
   "source": [
    "pages = [\n",
    "  { 'name': str(index), 'content': json.dumps(page, indent=2, ensure_ascii=False) }\n",
    "  for index, page in enumerate(example)\n",
    "] + [{ 'name': \"meta\", 'content': json.dumps({ 'pages': len(example) }, indent=2, ensure_ascii=False) }]\n",
    "print(supabase.rpc(\"insert_documents_quick\", {\n",
    "  \"documents\": pages,\n",
    "  \"parent_id\": folder_id,  \n",
    "}).execute().data)"
   ]
  },
  {
   "cell_type": "markdown",
   "metadata": {},
   "source": [
    "# UT"
   ]
  },
  {
   "cell_type": "markdown",
   "metadata": {},
   "source": [
    "## Parsing"
   ]
  },
  {
   "cell_type": "code",
   "execution_count": 2,
   "metadata": {},
   "outputs": [
    {
     "name": "stdout",
     "output_type": "stream",
     "text": [
      "got: ['c', 'x', 'z', 'a', 'y', 'b'] [[3, 5, 0]]\n",
      "got: ['c', 'x', 'z', 'a', 'y', 'b'] [[3, 5, 0], [3, 0, 5], [3, 5, 0], [3, 0, 5]]\n",
      "got: ['y', 'c', 'b', 'a', 'z', 'x'] [[3, 2, 1], [3, 1, 2], [2, 'x', 'x']]\n"
     ]
    }
   ],
   "source": [
    "# test shuffle\n",
    "def x():\n",
    "  ans = list(\"abc\")\n",
    "  got_words, got_ans = generate_session._shuffle(ans, list(\"xyz\"), Random(1))\n",
    "  print(\"got:\", got_words, got_ans)\n",
    "  assert len(got_ans) == 1\n",
    "  assert len(got_words) == 6\n",
    "  assert [got_words[i] for i in got_ans[0]] == ans\n",
    "  # test multi answers\n",
    "  ans = list(\"abc\")\n",
    "  got_words, got_ans = generate_session._shuffle(\n",
    "    ans, list(\"xyz\"), Random(1), [[0, 2, 1], [0, 1, 2], [0, 2, 1]])\n",
    "  print(\"got:\", got_words, got_ans)\n",
    "  assert len(got_ans) == 4\n",
    "  assert len(got_words) == 6\n",
    "  for idx in [0, 2]:\n",
    "    assert [got_words[i] for i in got_ans[idx]] == ans\n",
    "  for idx in [1, 3]:\n",
    "    assert [got_words[i] for i in got_ans[idx]] == list(\"acb\")\n",
    "  # test variable answer\n",
    "  ans = list(\"abc\")\n",
    "  got_words, got_ans = generate_session._shuffle(\n",
    "    ans, list(\"xyz\"), Random(0), [[0, 2, 1], [1, 'x', 'x']])\n",
    "  print(\"got:\", got_words, got_ans)\n",
    "  assert len(got_ans) == 3\n",
    "  assert len(got_words) == 6\n",
    "  assert [got_words[i] for i in got_ans[0]] == ans\n",
    "  assert [got_words[i] for i in got_ans[1]] == list(\"acb\")\n",
    "  idx = got_ans[2][0]\n",
    "  assert isinstance(idx, int) and got_words[idx] == 'b'\n",
    "  assert got_ans[2][1:] == ['x', 'x']\n",
    "  #   assert [got_words[i] for i in got_ans[idx]] == list(\"acb\")\n",
    "x()"
   ]
  },
  {
   "cell_type": "code",
   "execution_count": 3,
   "metadata": {},
   "outputs": [
    {
     "name": "stdout",
     "output_type": "stream",
     "text": [
      "QuizItem(segments=[QuizItemSegment(content='测', separator_level=0), QuizItemSegment(content='试', separator_level=0)], exclusive_id=None, link_id=None, only_kinds=[], text_start=2, text_end=4, alternative_answers=[])\n",
      "基本测试\n"
     ]
    }
   ],
   "source": [
    "# test basic parsing\n",
    "def x():\n",
    "    c = articles_parser.parseLine(\n",
    "        \"基本[测/试]\")\n",
    "    for x in c.quizzes: print(x)\n",
    "    print(c.text)\n",
    "    assert c.text == \"基本测试\"\n",
    "    assert c.quizzes[0].segments[0].separator_level == 0\n",
    "    assert c.quizzes[0].segments[1].content == \"试\"\n",
    "    assert (c.quizzes[0].text_start, c.quizzes[0].text_end) == (2, 4)\n",
    "x()"
   ]
  },
  {
   "cell_type": "code",
   "execution_count": 4,
   "metadata": {},
   "outputs": [
    {
     "name": "stdout",
     "output_type": "stream",
     "text": [
      "QuizItem(segments=[QuizItemSegment(content='嵌', separator_level=0), QuizItemSegment(content='套', separator_level=0)], exclusive_id='00', link_id=None, only_kinds=[], text_start=0, text_end=2, alternative_answers=[])\n",
      "QuizItem(segments=[QuizItemSegment(content='套', separator_level=0)], exclusive_id='00', link_id=None, only_kinds=[], text_start=1, text_end=2, alternative_answers=[])\n",
      "QuizItem(segments=[QuizItemSegment(content='和', separator_level=0)], exclusive_id=None, link_id=None, only_kinds=[], text_start=2, text_end=3, alternative_answers=[])\n",
      "QuizItem(segments=[QuizItemSegment(content='互斥', separator_level=0)], exclusive_id='00', link_id=None, only_kinds=[], text_start=3, text_end=5, alternative_answers=[])\n",
      "嵌套和互斥\n",
      "QuizItem(segments=[QuizItemSegment(content='嵌套', separator_level=0), QuizItemSegment(content='自动', separator_level=0), QuizItemSegment(content='互斥', separator_level=0)], exclusive_id=2334, link_id=None, only_kinds=[], text_start=0, text_end=6, alternative_answers=[])\n",
      "QuizItem(segments=[QuizItemSegment(content='嵌套', separator_level=0)], exclusive_id=2334, link_id=None, only_kinds=[], text_start=0, text_end=2, alternative_answers=[])\n",
      "QuizItem(segments=[QuizItemSegment(content='互斥', separator_level=0)], exclusive_id=2334, link_id=None, only_kinds=[], text_start=4, text_end=6, alternative_answers=[])\n",
      "QuizItem(segments=[QuizItemSegment(content='互斥', separator_level=0)], exclusive_id=2334, link_id=None, only_kinds=[], text_start=4, text_end=6, alternative_answers=[])\n",
      "嵌套自动互斥\n"
     ]
    }
   ],
   "source": [
    "# test exclusive\n",
    "def x():\n",
    "    c = articles_parser.parseLine(\n",
    "        \"[嵌[==m00 套]][和][==m00 互斥]\")\n",
    "    for x in c.quizzes: print(x)\n",
    "    print(c.text)\n",
    "    for x in c.quizzes:\n",
    "        if x.text() == \"和\":\n",
    "            assert x.exclusive_id is None\n",
    "        else:\n",
    "            assert x.exclusive_id == \"00\"\n",
    "    c = articles_parser.parseLine(\n",
    "        \"[[嵌套]自动[[互斥]]]\")\n",
    "    for x in c.quizzes: print(x)\n",
    "    print(c.text)\n",
    "    exid = c.quizzes[0].exclusive_id\n",
    "    assert exid is not None\n",
    "    for x in c.quizzes:\n",
    "        assert x.exclusive_id == exid\n",
    "x()"
   ]
  },
  {
   "cell_type": "code",
   "execution_count": 5,
   "metadata": {},
   "outputs": [
    {
     "name": "stdout",
     "output_type": "stream",
     "text": [
      "QuizItem(segments=[QuizItemSegment(content='这个', separator_level=0)], exclusive_id=None, link_id='00', only_kinds=[], text_start=0, text_end=2, alternative_answers=[])\n",
      "QuizItem(segments=[QuizItemSegment(content='这', separator_level=0), QuizItemSegment(content='个', separator_level=0)], exclusive_id=None, link_id='00', only_kinds=[], text_start=3, text_end=5, alternative_answers=[])\n",
      "QuizItem(segments=[QuizItemSegment(content='出', separator_level=0)], exclusive_id=None, link_id=None, only_kinds=[], text_start=7, text_end=8, alternative_answers=[])\n",
      "这个和这个同时出现\n"
     ]
    }
   ],
   "source": [
    "# test linking\n",
    "def x():\n",
    "    c = articles_parser.parseLine(\n",
    "        \"[==l00 这个]和[==l00 这/个]同时[出]现\")\n",
    "    for x in c.quizzes: print(x)\n",
    "    print(c.text)\n",
    "    for idx in [0, 1]:\n",
    "        assert c.quizzes[idx].link_id == \"00\"\n",
    "    assert c.quizzes[2].link_id is None\n",
    "x()"
   ]
  },
  {
   "cell_type": "code",
   "execution_count": 6,
   "metadata": {},
   "outputs": [
    {
     "name": "stdout",
     "output_type": "stream",
     "text": [
      "QuizItem(segments=[QuizItemSegment(content='类型', separator_level=0)], exclusive_id=None, link_id=None, only_kinds=[<QuizKind.filling: 'f'>, <QuizKind.ordering: 'o'>], text_start=2, text_end=4, alternative_answers=[])\n",
      "限定类型呢\n"
     ]
    }
   ],
   "source": [
    "# test type limits\n",
    "def x():\n",
    "    c = articles_parser.parseLine(\n",
    "        \"限定[==kfo 类型]呢\")\n",
    "    for x in c.quizzes: print(x)\n",
    "    print(c.text)\n",
    "    assert c.quizzes[0].only_kinds == [\n",
    "        commons.QuizKind.filling, commons.QuizKind.ordering]\n",
    "x()"
   ]
  },
  {
   "cell_type": "code",
   "execution_count": 7,
   "metadata": {},
   "outputs": [
    {
     "name": "stdout",
     "output_type": "stream",
     "text": [
      "QuizItem(segments=[QuizItemSegment(content='甲', separator_level=0), QuizItemSegment(content='乙', separator_level=0), QuizItemSegment(content='丙', separator_level=0), QuizItemSegment(content='丁', separator_level=0), QuizItemSegment(content='的顺序', separator_level=0)], exclusive_id=None, link_id=None, only_kinds=[], text_start=0, text_end=7, alternative_answers=[[0, 1, 3, 2], [0, 2, 1, 3], [0, 2, 3, 1]])\n",
      "甲乙丙丁的顺序不那么重要\n",
      "QuizItem(segments=[QuizItemSegment(content='甲', separator_level=0), QuizItemSegment(content='乙', separator_level=0), QuizItemSegment(content='丙', separator_level=0), QuizItemSegment(content='丁', separator_level=0), QuizItemSegment(content='的顺序', separator_level=0)], exclusive_id=None, link_id=None, only_kinds=[], text_start=0, text_end=7, alternative_answers=[['x', 'x', 'x', 'x', 4]])\n",
      "甲乙丙丁的顺序不那么重要\n"
     ]
    }
   ],
   "source": [
    "# test alternative ansers\n",
    "def x():\n",
    "    c = articles_parser.parseLine(\n",
    "        \"[==a0132,0213,0231 甲/乙/丙/丁/的顺序]不那么重要\")\n",
    "    for x in c.quizzes: print(x)\n",
    "    print(c.text)\n",
    "    assert c.quizzes[0].alternative_answers == [[0, 1, 3, 2], [0, 2, 1, 3], [0, 2, 3, 1]]\n",
    "    c = articles_parser.parseLine(\n",
    "        \"[==axxxx4 甲/乙/丙/丁/的顺序]不那么重要\")\n",
    "    for x in c.quizzes: print(x)\n",
    "    print(c.text)\n",
    "    assert c.quizzes[0].alternative_answers == [['x', 'x', 'x', 'x', 4]]\n",
    "x()"
   ]
  },
  {
   "cell_type": "code",
   "execution_count": 8,
   "metadata": {},
   "outputs": [
    {
     "name": "stdout",
     "output_type": "stream",
     "text": [
      "QuizItem(segments=[QuizItemSegment(content='食肉目', separator_level=0), QuizItemSegment(content='猫科', separator_level=0), QuizItemSegment(content='猫属', separator_level=0)], exclusive_id='00', link_id=None, only_kinds=[], text_start=32, text_end=39, alternative_answers=[])\n",
      "QuizItem(segments=[QuizItemSegment(content='猫科', separator_level=0), QuizItemSegment(content='猫属', separator_level=0)], exclusive_id='00', link_id=None, only_kinds=[], text_start=35, text_end=39, alternative_answers=[])\n",
      "QuizItem(segments=[QuizItemSegment(content='脊索', separator_level=0), QuizItemSegment(content='动物', separator_level=1)], exclusive_id=None, link_id=None, only_kinds=[], text_start=40, text_end=44, alternative_answers=[])\n",
      "QuizItem(segments=[QuizItemSegment(content='蓝灰', separator_level=0), QuizItemSegment(content='色', separator_level=1)], exclusive_id=2335, link_id=None, only_kinds=[], text_start=53, text_end=56, alternative_answers=[])\n",
      "QuizItem(segments=[QuizItemSegment(content='蓝灰', separator_level=0)], exclusive_id=2335, link_id=None, only_kinds=[<QuizKind.selection: 's'>], text_start=53, text_end=55, alternative_answers=[])\n",
      "猫（拉丁学名：Felis silvestris catus），是食肉目猫科猫属的脊索动物。猫体型小，体色由蓝灰色到棕黄色，体型瘦削，身长0.3-0.5米\n"
     ]
    }
   ],
   "source": [
    "# generic test\n",
    "def x():\n",
    "    c = articles_parser.parseLine(\n",
    "        \"猫（拉丁学名：Felis silvestris catus），是[==m00 食肉目[猫科/猫属]]的[脊索//动物]。猫体型小，体色由[[==ks 蓝灰]//色]到棕黄色，体型瘦削，身长0.3-0.5米\")\n",
    "    for x in c.quizzes: print(x)\n",
    "    print(c.text)\n",
    "    assert c.quizzes[1].segments[1].content == \"猫属\"\n",
    "    assert c.quizzes[1].exclusive_id == \"00\"\n",
    "    assert c.quizzes[2].segments[1].separator_level == 1\n",
    "x()"
   ]
  },
  {
   "cell_type": "markdown",
   "metadata": {},
   "source": [
    "## Generating"
   ]
  },
  {
   "cell_type": "code",
   "execution_count": 11,
   "metadata": {},
   "outputs": [
    {
     "name": "stdout",
     "output_type": "stream",
     "text": [
      "{'title': '标题', 'text': '这是${一只猫咪}\\n这是另一只\\n', 'quizzes': [{'kind': 'filling', 'answers': [[0, 1]], 'entries': ['一\\\\只', '猫\\\\咪']}]}\n",
      "{'title': '标题', 'text': '这是${一只猫咪}\\n这是${另一只}\\n', 'quizzes': [{'kind': 'selection', 'answers': [[0]], 'entries': ['一只猫咪', '1234']}, {'kind': 'selection', 'answers': [[0]], 'entries': ['另一只', '1234']}]}\n"
     ]
    }
   ],
   "source": [
    "# test basic\n",
    "def x():\n",
    "    article = articles_parser.parseArticles(\n",
    "\"\"\"==1标题\n",
    "这是[一\\\\只/猫\\\\咪]\n",
    "这是[==ks 另一只]\"\"\")[0]\n",
    "    o = generate_session.GenerateOptions(\n",
    "        preferred_density_per_chars=1,\n",
    "        quiz_kind_weights={commons.QuizKind.filling: 1.})\n",
    "    wb = commons.WordsBase([list(\"1234\")])\n",
    "    g = generate_session.generateQuizArticle(\n",
    "        article, o, wb)\n",
    "    print(g)\n",
    "    assert g[\"text\"] == \"这是${一只猫咪}\\n这是另一只\\n\"\n",
    "    assert len(g[\"quizzes\"]) == 1\n",
    "    assert g[\"quizzes\"][0][\"answers\"] == [[0, 1]]\n",
    "    assert g[\"quizzes\"][0][\"entries\"] == ['一\\\\只', '猫\\\\咪']\n",
    "    o.quiz_kind_weights={commons.QuizKind.selection: 1.}\n",
    "    g = generate_session.generateQuizArticle(\n",
    "        article, o, wb)\n",
    "    print(g)\n",
    "    assert g[\"text\"] == \"这是${一只猫咪}\\n这是${另一只}\\n\"\n",
    "    q = g[\"quizzes\"][1]\n",
    "    assert q[\"entries\"][q[\"answers\"][0][0]] == \"另一只\"\n",
    "x()"
   ]
  },
  {
   "cell_type": "code",
   "execution_count": 12,
   "metadata": {},
   "outputs": [
    {
     "name": "stdout",
     "output_type": "stream",
     "text": [
      "{'title': '标题', 'text': '这是${一只猫咪}\\n这是另一只\\n', 'quizzes': [{'kind': 'filling', 'answers': [[0, 1], [1, 0]], 'entries': ['一\\\\只', '猫\\\\咪']}]}\n",
      "{'title': '标题', 'text': '这是${一只猫咪}\\n这是${另一只}\\n', 'quizzes': [{'kind': 'selection', 'answers': [[0]], 'entries': ['一只猫咪', '1234']}, {'kind': 'selection', 'answers': [[0]], 'entries': ['另一只', '1234']}]}\n",
      "{'title': '标题', 'text': '这是${一只猫咪}\\n这是另一只\\n', 'quizzes': [{'kind': 'ordering', 'answers': [[0, 1], [1, 0]], 'entries': ['一只', '猫咪', '4', '2']}]}\n"
     ]
    }
   ],
   "source": [
    "# alternative answers\n",
    "def x():\n",
    "    article = articles_parser.parseArticles(\n",
    "\"\"\"==1标题\n",
    "这是[==a10 一\\\\只/猫\\\\咪]\n",
    "这是[==ks 另一只]\"\"\")[0]\n",
    "    o = generate_session.GenerateOptions(\n",
    "        preferred_density_per_chars=1,\n",
    "        quiz_kind_weights={commons.QuizKind.filling: 1.})\n",
    "    wb = commons.WordsBase([list(\"1234\")])\n",
    "    g = generate_session.generateQuizArticle(\n",
    "        article, o, wb)\n",
    "    print(g)\n",
    "    assert g[\"text\"] == \"这是${一只猫咪}\\n这是另一只\\n\"\n",
    "    assert len(g[\"quizzes\"]) == 1\n",
    "    assert g[\"quizzes\"][0][\"answers\"] == [[0, 1], [1, 0]]\n",
    "    o.quiz_kind_weights={commons.QuizKind.selection: 1.}\n",
    "    g = generate_session.generateQuizArticle(\n",
    "        article, o, wb)\n",
    "    print(g)\n",
    "    assert g[\"text\"] == \"这是${一只猫咪}\\n这是${另一只}\\n\"\n",
    "    q = g[\"quizzes\"][0]\n",
    "    assert q[\"entries\"][q[\"answers\"][0][0]] == \"一只猫咪\"\n",
    "    o.quiz_kind_weights={commons.QuizKind.ordering: 1.}\n",
    "    g = generate_session.generateQuizArticle(\n",
    "        article, o, wb)\n",
    "    print(g)\n",
    "    q = g[\"quizzes\"][0]\n",
    "    for idx, ans in [\n",
    "        (0, \"一只猫咪\"), (1, \"猫咪一只\")\n",
    "    ]:\n",
    "        assert ''.join(\n",
    "            q[\"entries\"][i] for i in q[\"answers\"][idx]) == ans\n",
    "x()"
   ]
  }
 ],
 "metadata": {
  "kernelspec": {
   "display_name": ".venv",
   "language": "python",
   "name": "python3"
  },
  "language_info": {
   "codemirror_mode": {
    "name": "ipython",
    "version": 3
   },
   "file_extension": ".py",
   "mimetype": "text/x-python",
   "name": "python",
   "nbconvert_exporter": "python",
   "pygments_lexer": "ipython3",
   "version": "3.12.6"
  }
 },
 "nbformat": 4,
 "nbformat_minor": 2
}
